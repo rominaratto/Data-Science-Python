{
 "cells": [
  {
   "cell_type": "markdown",
   "id": "493f6dad",
   "metadata": {},
   "source": [
    "# Geospatial Analysis of Schools in Peru"
   ]
  },
  {
   "cell_type": "markdown",
   "id": "e27faf10",
   "metadata": {},
   "source": [
    "## 👩‍💻 Task 1: Static Maps by School Level"
   ]
  },
  {
   "cell_type": "code",
   "execution_count": null,
   "id": "e120669d",
   "metadata": {},
   "outputs": [],
   "source": [
    "pip install geopandas pandas matplotlib openpyxl folium"
   ]
  },
  {
   "cell_type": "code",
   "execution_count": null,
   "id": "b61bb293",
   "metadata": {},
   "outputs": [],
   "source": [
    "import pandas as pd\n",
    "import numpy as np\n",
    "import geopandas as gpd\n",
    "from shapely.geometry import Point\n",
    "import matplotlib.pyplot as plt\n",
    "import seaborn as sns\n",
    "import folium\n",
    "from folium.plugins import MarkerCluster\n",
    "import branca\n",
    "import os"
   ]
  },
  {
   "cell_type": "code",
   "execution_count": null,
   "id": "82463252",
   "metadata": {},
   "outputs": [],
   "source": [
    "# Cargar la base de colegios\n",
    "escuelas = pd.read_excel(\"listado_iiee.xlsx\")\n",
    "escuelas"
   ]
  },
  {
   "cell_type": "code",
   "execution_count": null,
   "id": "7a33558a",
   "metadata": {},
   "outputs": [],
   "source": [
    "# Cargar el shapefile de distritos de Perú \n",
    "districts = gpd.read_file('Shapefile/DISTRITOS.shp')\n",
    "districts"
   ]
  },
  {
   "cell_type": "code",
   "execution_count": null,
   "id": "b8f9315b",
   "metadata": {},
   "outputs": [],
   "source": [
    "# Crear GeoDataFrame de puntos: Definir sistema de coordenadas y crear puntos a partir de las coordenadas (lon y lat)\n",
    "schools_geo = gpd.GeoDataFrame(\n",
    "    escuelas, \n",
    "    crs=\"EPSG:4326\",\n",
    "    geometry=gpd.points_from_xy(escuelas['Longitud'], escuelas['Latitud'])\n",
    ")"
   ]
  },
  {
   "cell_type": "code",
   "execution_count": null,
   "id": "98a2e5a2",
   "metadata": {},
   "outputs": [],
   "source": [
    "# Intersección colegios - distritos\n",
    "schools_geo = gpd.overlay(schools_geo, districts, how='intersection')\n",
    "schools_geo\n",
    "\n",
    "# Antes: 114919 rows\n",
    "# Ahora: 114893 rows"
   ]
  },
  {
   "cell_type": "code",
   "execution_count": null,
   "id": "2f7477af",
   "metadata": {},
   "outputs": [],
   "source": [
    "# Visualización rápida\n",
    "fig, ax = plt.subplots(figsize=(12,10))\n",
    "districts.boundary.plot(ax=ax, color='black')\n",
    "schools_geo.plot(ax=ax, color='red', markersize=5)\n",
    "plt.show()"
   ]
  },
  {
   "cell_type": "markdown",
   "id": "5c471883",
   "metadata": {},
   "source": [
    "### (Paréntesis) <br>\n",
    "Antes de la intersección: 114919 rows <br>\n",
    "Después de la intersección: 114893 rows <br>\n",
    "¿Qué pasó?"
   ]
  },
  {
   "cell_type": "code",
   "execution_count": null,
   "id": "41455a03",
   "metadata": {},
   "outputs": [],
   "source": [
    "# Pre-intersección: guarda una copia original del GeoDataFrame\n",
    "schools_geo_original = gpd.GeoDataFrame(\n",
    "    escuelas, \n",
    "    crs=\"EPSG:4326\",\n",
    "    geometry=gpd.points_from_xy(escuelas['Longitud'], escuelas['Latitud'])\n",
    ")"
   ]
  },
  {
   "cell_type": "code",
   "execution_count": null,
   "id": "80c15fed",
   "metadata": {},
   "outputs": [],
   "source": [
    "# Después del overlay: compara los identificadores\n",
    "# 2.1 Colegios que sobrevivieron (después del overlay)\n",
    "colegios_despues = set(schools_geo['Código Modular'])\n",
    "\n",
    "# 2.2 Colegios originales\n",
    "colegios_antes = set(schools_geo_original['Código Modular'])\n",
    "\n",
    "# 2.3 Colegios perdidos\n",
    "colegios_perdidos = colegios_antes - colegios_despues\n",
    "\n",
    "print(f\"Total colegios perdidos: {len(colegios_perdidos)}\")"
   ]
  },
  {
   "cell_type": "code",
   "execution_count": null,
   "id": "1adf603f",
   "metadata": {},
   "outputs": [],
   "source": [
    "# Ver detalle de los colegios perdidos\n",
    "colegios_perdidos_df = schools_geo_original[\n",
    "    schools_geo_original['Código Modular'].isin(colegios_perdidos)\n",
    "]\n",
    "\n",
    "# Mostrar algunas columnas relevantes\n",
    "colegios_perdidos_df[['Código Modular', 'Nombre de SS.EE.', 'Departamento', 'Provincia', 'Distrito', 'Latitud', 'Longitud']].head(26)"
   ]
  },
  {
   "cell_type": "code",
   "execution_count": null,
   "id": "a4a00d3b",
   "metadata": {},
   "outputs": [],
   "source": [
    "import geopandas as gpd\n",
    "import matplotlib.pyplot as plt\n",
    "\n",
    "# Crear un GeoDataFrame de colegios perdidos\n",
    "perdidos_gdf = gpd.GeoDataFrame(\n",
    "    colegios_perdidos_df,\n",
    "    crs=\"EPSG:4326\",\n",
    "    geometry=gpd.points_from_xy(colegios_perdidos_df['Longitud'], colegios_perdidos_df['Latitud'])\n",
    ")\n",
    "\n",
    "# Plot\n",
    "fig, ax = plt.subplots(figsize=(10,10))\n",
    "districts.boundary.plot(ax=ax, edgecolor='black')\n",
    "perdidos_gdf.plot(ax=ax, color='red', markersize=20, label='Colegios Perdidos')\n",
    "plt.legend()\n",
    "plt.title(\"Ubicación de colegios perdidos tras overlay\")\n",
    "plt.axis('off')\n",
    "plt.show()"
   ]
  },
  {
   "cell_type": "markdown",
   "id": "022045bd",
   "metadata": {},
   "source": [
    "Diagnóstico visual: El gráfico sugiere que los 26 colegios fueron omitidos por encontrarse en los límites. Por lo tanto, al no tratarse de un error en la intersección, procederemos con la muestra de 114,893 colegios.\n",
    "### (Fin del Paréntesis)"
   ]
  },
  {
   "cell_type": "markdown",
   "id": "6f637765",
   "metadata": {},
   "source": [
    "### Continuación: Creación de mapas estáticos que presenten la distribución de colegios por distrito para cada nivel educativo"
   ]
  },
  {
   "cell_type": "code",
   "execution_count": null,
   "id": "3dc0647c",
   "metadata": {},
   "outputs": [],
   "source": [
    "# Trabajar variables\n",
    "\n",
    "# Crea una nueva columna llamada Nivel a partir de la columna original Nivel / Modalidad, pero: Convierte todo el texto a minúsculas (lower()).\n",
    "schools_geo['Nivel'] = schools_geo['Nivel / Modalidad'].str.lower()"
   ]
  },
  {
   "cell_type": "markdown",
   "id": "67df5fce",
   "metadata": {},
   "source": [
    "Tabla del número de colegios por nivel educativo"
   ]
  },
  {
   "cell_type": "code",
   "execution_count": null,
   "id": "776c961e",
   "metadata": {},
   "outputs": [],
   "source": [
    "import pandas as pd\n",
    "\n",
    "# Asegurarse de que el nivel esté en minúsculas\n",
    "schools_geo['Nivel'] = schools_geo['Nivel'].str.lower()\n",
    "\n",
    "# Definir los niveles que vamos a desagregar\n",
    "niveles = ['inicial', 'primaria', 'secundaria']\n",
    "\n",
    "# Calcular directamente en la base original\n",
    "total_inicial = len(schools_geo[schools_geo['Nivel'].str.contains('inicial', case=False, na=False)])\n",
    "total_primaria = len(schools_geo[schools_geo['Nivel'].str.contains('primaria', case=False, na=False)])\n",
    "total_secundaria = len(schools_geo[schools_geo['Nivel'].str.contains('secundaria', case=False, na=False)])\n",
    "total_general = total_inicial + total_primaria + total_secundaria\n",
    "\n",
    "# Crear la tabla resumen\n",
    "tabla_totales = pd.DataFrame({\n",
    "    'Nivel Educativo': ['Inicial', 'Primaria', 'Secundaria', 'Total General'],\n",
    "    'Número de Colegios': [total_inicial, total_primaria, total_secundaria, total_general]\n",
    "})\n",
    "\n",
    "# Dar formato con separadores de miles\n",
    "tabla_totales['Número de Colegios'] = tabla_totales['Número de Colegios'].apply(lambda x: f\"{x:,}\")\n",
    "\n",
    "# Mostrar la tabla\n",
    "tabla_totales"
   ]
  },
  {
   "cell_type": "markdown",
   "id": "13fd4b00",
   "metadata": {},
   "source": [
    "Colegios excluídos (no contienen la palabra inicial, primaria, ni secundaria)"
   ]
  },
  {
   "cell_type": "code",
   "execution_count": null,
   "id": "b87d44f0",
   "metadata": {},
   "outputs": [],
   "source": [
    "# Definir niveles válidos\n",
    "niveles_validos = ['inicial', 'primaria', 'secundaria']\n",
    "\n",
    "# Detectar colegios que NO tienen ninguno de los niveles válidos\n",
    "colegios_excluidos = schools_geo[\n",
    "    ~schools_geo['Nivel'].str.contains('|'.join(niveles_validos), case=False, na=False)\n",
    "]\n",
    "\n",
    "# Mostrar cuántos colegios excluidos hay\n",
    "print(f\"Colegios excluidos del análisis: {len(colegios_excluidos)}\")\n",
    "\n",
    "# Mostrar los primeros ejemplos\n",
    "colegios_excluidos[['Código Modular', 'Nombre de SS.EE.', 'Nivel / Modalidad']].head(20)"
   ]
  },
  {
   "cell_type": "markdown",
   "id": "bf13e8f4",
   "metadata": {},
   "source": [
    "Hasta este punto, hemos encontrado que: <br>\n",
    "Total de colegios Inicial: 54,822 <br>\n",
    "Total de colegios Primaria: 39,266 <br>\n",
    "Total de colegios Secundaria: 15,786 <br>\n",
    "Colegios excluidos del análisis: 5019 <br>\n",
    "Total Inicial-Primaria-Secundaria + Excluídos: 114,893. \n",
    "\n",
    "Dado que los colegios excluídos representan una cantidad no considerable, procedemos con el análisis considerando solo aquellos colegios que son de nivel inicial, primaria o secundaria (explícitamente). "
   ]
  },
  {
   "cell_type": "markdown",
   "id": "eff64b30",
   "metadata": {},
   "source": [
    "Tabla del número de colegios por distrito"
   ]
  },
  {
   "cell_type": "code",
   "execution_count": null,
   "id": "bb2d1456",
   "metadata": {},
   "outputs": [],
   "source": [
    "# Asegurarse que el Ubigeo esté bien formateado\n",
    "schools_geo['Ubigeo'] = schools_geo['Ubigeo'].astype(str).str.zfill(6)\n",
    "\n",
    "# 1. Contar número de colegios por distrito\n",
    "conteo_colegios_distrito = schools_geo.groupby('Ubigeo').size().reset_index(name='Total_Colegios')\n",
    "\n",
    "# 2. Calcular la suma total de colegios en el país\n",
    "suma_total_colegios = conteo_colegios_distrito['Total_Colegios'].sum()\n",
    "\n",
    "# 3. Mostrar resultados\n",
    "print(\"Primeros distritos con su cantidad de colegios:\")\n",
    "print(conteo_colegios_distrito.head(10))\n",
    "\n",
    "print(\"\\nSuma total de colegios en el país:\")\n",
    "print(f\"{suma_total_colegios:,}\")  # separador de miles"
   ]
  },
  {
   "cell_type": "markdown",
   "id": "21b4cd03",
   "metadata": {},
   "source": [
    "Mapas estáticos que presenten la distribución de colegios por distrito para cada nivel educativo"
   ]
  },
  {
   "cell_type": "code",
   "execution_count": null,
   "id": "5c40a319",
   "metadata": {},
   "outputs": [],
   "source": [
    "import geopandas as gpd\n",
    "import matplotlib.pyplot as plt\n",
    "\n",
    "# Asegurarte de que los IDs estén correctos\n",
    "schools_geo['Ubigeo'] = schools_geo['Ubigeo'].astype(str).str.zfill(6)\n",
    "districts['IDDIST'] = districts['IDDIST'].astype(str).str.zfill(6)\n",
    "schools_geo['Nivel'] = schools_geo['Nivel'].str.lower()\n",
    "\n",
    "# Definimos los niveles\n",
    "niveles = ['inicial', 'primaria', 'secundaria']\n",
    "\n",
    "# Para cada nivel: contar, sumar y mapear\n",
    "for nivel in niveles:\n",
    "    # 1. Filtrar colegios del nivel actual\n",
    "    filtered = schools_geo[schools_geo['Nivel'].str.contains(nivel, case=False, na=False)]\n",
    "\n",
    "    # 2. Contar número de colegios por distrito\n",
    "    conteo = filtered.groupby('Ubigeo').size().reset_index(name='Total_Colegios')\n",
    "\n",
    "    # 3. Sumar total de colegios de ese nivel\n",
    "    suma_total = conteo['Total_Colegios'].sum()\n",
    "    print(f\"\\nNivel: {nivel.capitalize()}\")\n",
    "    print(f\"Total nacional de colegios {nivel.capitalize()}: {suma_total:,} colegios\")\n",
    "\n",
    "    # Asegurar formato de string con ceros a la izquierda\n",
    "    districts['IDDIST'] = districts['IDDIST'].astype(str).str.zfill(6)\n",
    "    conteo['Ubigeo'] = conteo['Ubigeo'].astype(str).str.zfill(6)\n",
    "\n",
    "    # 4. Merge shapefile distritos + conteo\n",
    "    districts_plot = districts.merge(conteo, left_on='IDDIST', right_on='Ubigeo', how='left')\n",
    "    districts_plot['Total_Colegios'] = districts_plot['Total_Colegios'].fillna(0)\n",
    "\n",
    "    # 5. Plot\n",
    "    fig, ax = plt.subplots(figsize=(14, 12))\n",
    "    districts_plot.plot(\n",
    "        column='Total_Colegios',\n",
    "        cmap='YlOrRd',\n",
    "        linewidth=0.5,\n",
    "        edgecolor='black',\n",
    "        legend=True,\n",
    "        ax=ax\n",
    "    )\n",
    "\n",
    "    ax.set_title(f'Distribución de colegios - Nivel {nivel.capitalize()} (Total: {suma_total:,})', fontsize=18)\n",
    "    ax.axis('off')\n",
    "    plt.tight_layout()\n",
    "    plt.show()"
   ]
  },
  {
   "cell_type": "markdown",
   "id": "81c1325a",
   "metadata": {},
   "source": [
    "Zoom"
   ]
  },
  {
   "cell_type": "code",
   "execution_count": null,
   "id": "cb1fd5c9",
   "metadata": {},
   "outputs": [],
   "source": [
    "import geopandas as gpd\n",
    "import matplotlib.pyplot as plt\n",
    "\n",
    "# Asegurarse que IDs estén bien formateados\n",
    "schools_geo['Ubigeo'] = schools_geo['Ubigeo'].astype(str).str.zfill(6)\n",
    "districts['IDDIST'] = districts['IDDIST'].astype(str).str.zfill(6)\n",
    "schools_geo['Nivel'] = schools_geo['Nivel'].str.lower()\n",
    "\n",
    "# Definimos los niveles\n",
    "niveles = ['inicial', 'primaria', 'secundaria']\n",
    "\n",
    "# Creamos un diccionario para guardar las tablas por nivel\n",
    "tablas_nivel = {}\n",
    "\n",
    "# Para cada nivel: contar, sumar y generar tabla\n",
    "for nivel in niveles:\n",
    "    # 1. Filtrar colegios del nivel actual\n",
    "    filtered = schools_geo[schools_geo['Nivel'].str.contains(nivel, case=False, na=False)]\n",
    "\n",
    "    # 2. Contar número de colegios por distrito\n",
    "    conteo = filtered.groupby('Ubigeo').size().reset_index(name='Total_Colegios')\n",
    "\n",
    "    # 3. Merge shapefile distritos + conteo\n",
    "    tabla_distritos = districts.merge(conteo, left_on='IDDIST', right_on='Ubigeo', how='left')\n",
    "\n",
    "    # 4. Llenar distritos sin colegios con 0\n",
    "    tabla_distritos['Total_Colegios'] = tabla_distritos['Total_Colegios'].fillna(0).astype(int)\n",
    "\n",
    "    # 5. Mantener columnas relevantes\n",
    "    tabla_distritos = tabla_distritos[['DEPARTAMEN', 'PROVINCIA', 'DISTRITO', 'IDDIST', 'Total_Colegios']]\n",
    "\n",
    "    # 6. Guardar tabla en el diccionario\n",
    "    tablas_nivel[nivel] = tabla_distritos\n",
    "\n",
    "    # 7. Mostrar resumen en consola\n",
    "    suma_total = tabla_distritos['Total_Colegios'].sum()\n",
    "    print(f\"Nivel: {nivel.capitalize()} | Total nacional de colegios: {suma_total:,} colegios\")\n",
    "\n",
    "# --- Ahora tienes 3 tablas almacenadas en `tablas_nivel` ---\n",
    "\n",
    "# Por ejemplo:\n",
    "# tabla inicial\n",
    "print(\"\\nTabla de colegios de Inicial:\")\n",
    "print(tablas_nivel['inicial'].head())\n",
    "\n",
    "# tabla primaria\n",
    "print(\"\\nTabla de colegios de Primaria:\")\n",
    "print(tablas_nivel['primaria'].head())\n",
    "\n",
    "# tabla secundaria\n",
    "print(\"\\nTabla de colegios de Secundaria:\")\n",
    "print(tablas_nivel['secundaria'].head())"
   ]
  },
  {
   "cell_type": "markdown",
   "id": "cc03dbae",
   "metadata": {},
   "source": [
    "## Task 2: Proximity Analysis\n"
   ]
  },
  {
   "cell_type": "code",
   "execution_count": null,
   "id": "06ffd59e",
   "metadata": {},
   "outputs": [],
   "source": [
    "# Filtrar las regiones de interés: Huancavelica y Huancayo\n",
    "filtered_schools = schools_geo[\n",
    "    (schools_geo['Departamento'].str.contains('HUANCAVELICA', case=False, na=False)) |\n",
    "    (schools_geo['Departamento'].str.contains('HUANCAYO', case=False, na=False))\n",
    "]\n",
    "filtered_schools"
   ]
  },
  {
   "cell_type": "code",
   "execution_count": null,
   "id": "089d950a",
   "metadata": {},
   "outputs": [],
   "source": [
    "# Separar primarias y secundarias\n",
    "primarias = filtered_schools[filtered_schools['Nivel'].str.contains('primaria', case=False, na=False)].copy()\n",
    "secundarias = filtered_schools[filtered_schools['Nivel'].str.contains('secundaria', case=False, na=False)].copy()"
   ]
  },
  {
   "cell_type": "code",
   "execution_count": null,
   "id": "f2afdc7e",
   "metadata": {},
   "outputs": [],
   "source": [
    "# Cambiar la proyección a metros\n",
    "primarias = primarias.to_crs(epsg=32718)\n",
    "secundarias = secundarias.to_crs(epsg=32718)"
   ]
  },
  {
   "cell_type": "markdown",
   "id": "90a8f6b5",
   "metadata": {},
   "source": [
    "¿Qué es .to_crs(epsg=32718)? <br>\n",
    "crs significa Coordinate Reference System (Sistema de Referencia de Coordenadas). <br>\n",
    "El sistema de referencia original de schools_geo es EPSG:4326, que usa grados (latitud y longitud). Pero para medir distancias reales (por ejemplo, hacer un círculo de 5 km), los grados no sirven directamente. Entonces, cambias la proyección a un sistema en metros, usando: <br>\n",
    "EPSG:32718 ➔ UTM Zona 18S, usado para Perú. <br>\n",
    "👉 EPSG:32718 convierte tus puntos a un sistema de coordenadas donde 1 unidad = 1 metro."
   ]
  },
  {
   "cell_type": "code",
   "execution_count": null,
   "id": "8470d1d6",
   "metadata": {},
   "outputs": [],
   "source": [
    "# Crear un buffer de 5 km alrededor de cada primaria\n",
    "primarias['buffer_5km'] = primarias.geometry.buffer(5000)  # 5 km = 5000 metros"
   ]
  },
  {
   "cell_type": "code",
   "execution_count": null,
   "id": "270a2d2c",
   "metadata": {},
   "outputs": [],
   "source": [
    "# Contar cuántas secundarias caen dentro de cada buffer\n",
    "conteo_secundarias = []\n",
    "\n",
    "for idx, primaria in primarias.iterrows():\n",
    "    buffer = primaria['buffer_5km']\n",
    "    # Buscar secundarias dentro del buffer\n",
    "    secundarias_cercanas = secundarias[secundarias.geometry.within(buffer)]\n",
    "    conteo_secundarias.append(len(secundarias_cercanas))\n",
    "\n",
    "# Agregar el conteo como nueva columna\n",
    "primarias['secundarias_cerca'] = conteo_secundarias\n",
    "\n",
    "# Ahora cada primaria tiene cuántas secundarias tiene cerca en un radio de 5 km."
   ]
  },
  {
   "cell_type": "code",
   "execution_count": null,
   "id": "3152ac10",
   "metadata": {},
   "outputs": [],
   "source": [
    "# Identificar la primaria con más y menos secundarias cercanas\n",
    "# Primaria con menos secundarias cerca\n",
    "primaria_min = primarias.sort_values('secundarias_cerca').iloc[0]\n",
    "\n",
    "# Primaria con más secundarias cerca\n",
    "primaria_max = primarias.sort_values('secundarias_cerca', ascending=False).iloc[0]"
   ]
  },
  {
   "cell_type": "code",
   "execution_count": null,
   "id": "dd7bf747",
   "metadata": {},
   "outputs": [],
   "source": [
    "# Plot para primaria con MENOS secundarias\n",
    "fig, ax = plt.subplots(figsize=(10, 10))\n",
    "secundarias.plot(ax=ax, color='lightgray', markersize=5, label='Secundarias')\n",
    "gpd.GeoSeries(primaria_min.geometry).plot(ax=ax, color='blue', markersize=50, label='Primaria (mínimo)')\n",
    "gpd.GeoSeries(primaria_min.buffer_5km).plot(ax=ax, color='none', edgecolor='blue', linestyle='--', linewidth=2)\n",
    "secundarias_within_buffer = secundarias[secundarias.geometry.within(primaria_min.buffer_5km)]\n",
    "secundarias_within_buffer.plot(ax=ax, color='red', markersize=20, label='Secundarias dentro')\n",
    "plt.title(f'Primaria con MENOS secundarias cerca ({primaria_min[\"secundarias_cerca\"]} secundarias)', fontsize=14)\n",
    "plt.legend()\n",
    "plt.axis('off')\n",
    "plt.show()\n",
    "\n",
    "# Plot para primaria con MÁS secundarias\n",
    "fig, ax = plt.subplots(figsize=(10, 10))\n",
    "secundarias.plot(ax=ax, color='lightgray', markersize=5, label='Secundarias')\n",
    "gpd.GeoSeries(primaria_max.geometry).plot(ax=ax, color='green', markersize=50, label='Primaria (máximo)')\n",
    "gpd.GeoSeries(primaria_max.buffer_5km).plot(ax=ax, color='none', edgecolor='green', linestyle='--', linewidth=2)\n",
    "secundarias_within_buffer_max = secundarias[secundarias.geometry.within(primaria_max.buffer_5km)]\n",
    "secundarias_within_buffer_max.plot(ax=ax, color='red', markersize=20, label='Secundarias dentro')\n",
    "plt.title(f'Primaria con MÁS secundarias cerca ({primaria_max[\"secundarias_cerca\"]} secundarias)', fontsize=14)\n",
    "plt.legend()\n",
    "plt.axis('off')\n",
    "plt.show()"
   ]
  },
  {
   "cell_type": "markdown",
   "id": "d7cbf09a",
   "metadata": {},
   "source": [
    "# Task 3: Interactive Mapping with Folium\n"
   ]
  },
  {
   "cell_type": "markdown",
   "id": "3affd371",
   "metadata": {},
   "source": [
    "### Choropleth con Folium por niveles"
   ]
  },
  {
   "cell_type": "code",
   "execution_count": null,
   "id": "71318147",
   "metadata": {},
   "outputs": [],
   "source": [
    "import folium\n",
    "from folium import Choropleth, LayerControl\n",
    "\n",
    "# Asegurar IDs\n",
    "schools_geo['Ubigeo'] = schools_geo['Ubigeo'].astype(str).str.zfill(6)\n",
    "districts['IDDIST'] = districts['IDDIST'].astype(str).str.zfill(6)\n",
    "schools_geo['Nivel'] = schools_geo['Nivel'].str.lower()\n",
    "\n",
    "# Conteos por nivel\n",
    "niveles = ['inicial', 'primaria', 'secundaria']\n",
    "conteos = {}\n",
    "\n",
    "for nivel in niveles:\n",
    "    filtered = schools_geo[schools_geo['Nivel'].str.contains(nivel, case=False, na=False)]\n",
    "    conteo = filtered.groupby('Ubigeo').size().reset_index(name='Total_Colegios')\n",
    "    conteos[nivel] = conteo\n",
    "\n",
    "# Mapa base\n",
    "m = folium.Map(location=[-12.04318, -77.02824], zoom_start=6, tiles='OpenStreetMap')  # Perú centro\n",
    "\n",
    "# Agregar cada capa de choropleth\n",
    "for nivel, conteo in conteos.items():\n",
    "    choropleth = Choropleth(\n",
    "        geo_data=districts.to_json(),\n",
    "        name=f\"{nivel.capitalize()}\",\n",
    "        data=conteo,\n",
    "        columns=['Ubigeo', 'Total_Colegios'],\n",
    "        key_on='feature.properties.IDDIST',\n",
    "        fill_color='YlOrRd',\n",
    "        fill_opacity=0.7,\n",
    "        line_opacity=0.2,\n",
    "        legend_name=f\"Colegios de {nivel.capitalize()}\"\n",
    "    )\n",
    "    choropleth.add_to(m)\n",
    "\n",
    "# Control de capas\n",
    "LayerControl(collapsed=False).add_to(m)\n",
    "\n",
    "# Mostrar mapa\n",
    "m"
   ]
  },
  {
   "cell_type": "markdown",
   "id": "74e6beba",
   "metadata": {},
   "source": [
    "# High School Proximity Visualization"
   ]
  },
  {
   "cell_type": "code",
   "execution_count": null,
   "id": "2a00f182",
   "metadata": {},
   "outputs": [],
   "source": [
    "# Identificación de primaria_min y primaria_max, pero esta vez considerando todos los departamentos\n",
    "\n",
    "import geopandas as gpd\n",
    "\n",
    "# 1. Filtrar colegios de tipo primaria y secundaria de TODO EL PAÍS\n",
    "primarias = schools_geo[schools_geo['Nivel'].str.contains('primaria', case=False, na=False)].copy()\n",
    "secundarias = schools_geo[schools_geo['Nivel'].str.contains('secundaria', case=False, na=False)].copy()\n",
    "\n",
    "# 2. Cambiar proyección a metros (para cálculo de distancias reales)\n",
    "primarias = primarias.to_crs(epsg=32718)    # EPSG:32718 = UTM zona 18 Sur (ideal para Perú)\n",
    "secundarias = secundarias.to_crs(epsg=32718)\n",
    "\n",
    "# 3. Crear buffer de 5 km alrededor de cada primaria\n",
    "primarias['buffer_5km'] = primarias.geometry.buffer(5000)  # Radio de 5 km\n",
    "\n",
    "# 4. Contar cuántas secundarias caen dentro del buffer de cada primaria\n",
    "conteo_secundarias = []\n",
    "\n",
    "for idx, primaria in primarias.iterrows():\n",
    "    buffer = primaria['buffer_5km']\n",
    "    # Buscar secundarias que estén DENTRO del círculo\n",
    "    secundarias_cercanas = secundarias[secundarias.geometry.within(buffer)]\n",
    "    conteo_secundarias.append(len(secundarias_cercanas))\n",
    "\n",
    "# 5. Agregar el conteo como nueva columna\n",
    "primarias['secundarias_cerca'] = conteo_secundarias\n",
    "\n",
    "# 6. Definir primaria con más y menos secundarias cercanas\n",
    "primaria_min = primarias.sort_values('secundarias_cerca').iloc[0]\n",
    "primaria_max = primarias.sort_values('secundarias_cerca', ascending=False).iloc[0]\n",
    "\n",
    "# 7. Imprimir resultados rápidos\n",
    "print(f\"Primaria con menos secundarias cerca: {primaria_min['Nombre de SS.EE.']} ({primaria_min['secundarias_cerca']} secundarias)\")\n",
    "print(f\"Primaria con más secundarias cerca: {primaria_max['Nombre de SS.EE.']} ({primaria_max['secundarias_cerca']} secundarias)\")"
   ]
  },
  {
   "cell_type": "code",
   "execution_count": null,
   "id": "dcd36162",
   "metadata": {},
   "outputs": [],
   "source": [
    "import matplotlib.pyplot as plt\n",
    "\n",
    "# Nueva función: usar coordenadas reales\n",
    "def plot_proximity_real(nombre_primaria, secundaria_coords, titulo):\n",
    "    fig, ax = plt.subplots(figsize=(8, 8))\n",
    "\n",
    "    # 1. Dibujar el círculo de 5 km\n",
    "    circle = plt.Circle((0, 0), 5, color='royalblue', alpha=0.7)\n",
    "    ax.add_patch(circle)\n",
    "\n",
    "    # 2. Dibujar la escuela primaria en el centro\n",
    "    ax.scatter(0, 0, color='black', s=400)\n",
    "    ax.text(0, 0, nombre_primaria, color='white', fontsize=12, ha='center', va='center')\n",
    "\n",
    "    # 3. Dibujar las secundarias con sus coordenadas reales relativas\n",
    "    for x, y in secundaria_coords:\n",
    "        ax.scatter(x, y, color='black', s=400)\n",
    "        ax.text(x, y, \"Secundaria\", color='white', fontsize=8, ha='center', va='center')\n",
    "\n",
    "    # 4. Línea de referencia de 5 km\n",
    "    ax.plot([0, 5], [0, 0], color='black')\n",
    "    ax.text(2.5, 0.2, \"5 km\", fontsize=10, ha='center', va='bottom')\n",
    "\n",
    "    # Configuración final\n",
    "    ax.set_xlim(-6, 6)\n",
    "    ax.set_ylim(-6, 6)\n",
    "    ax.set_aspect('equal')\n",
    "    ax.axis('off')\n",
    "    plt.title(titulo, fontsize=14)\n",
    "    plt.tight_layout()\n",
    "    plt.show()"
   ]
  },
  {
   "cell_type": "code",
   "execution_count": null,
   "id": "f73086ce",
   "metadata": {},
   "outputs": [],
   "source": [
    "# Seleccionar las secundarias cercanas\n",
    "secundarias_within_buffer = secundarias[secundarias.geometry.within(primaria_min['buffer_5km'])]\n",
    "secundarias_within_buffer_max = secundarias[secundarias.geometry.within(primaria_max['buffer_5km'])]"
   ]
  },
  {
   "cell_type": "code",
   "execution_count": null,
   "id": "de142900",
   "metadata": {},
   "outputs": [],
   "source": [
    "secundarias_coords_min = [\n",
    "    ((geom.x - primaria_min.geometry.x) / 1000, (geom.y - primaria_min.geometry.y) / 1000)\n",
    "    for geom in secundarias_within_buffer.geometry\n",
    "]\n",
    "\n",
    "secundarias_coords_max = [\n",
    "    ((geom.x - primaria_max.geometry.x) / 1000, (geom.y - primaria_max.geometry.y) / 1000)\n",
    "    for geom in secundarias_within_buffer_max.geometry\n",
    "]"
   ]
  },
  {
   "cell_type": "code",
   "execution_count": null,
   "id": "b8dbde95",
   "metadata": {},
   "outputs": [],
   "source": [
    "# Para la primaria con MENOS secundarias cerca\n",
    "plot_proximity_real(\n",
    "    nombre_primaria=\"Primaria\",\n",
    "    secundaria_coords=secundarias_coords_min,\n",
    "    titulo=f\"Primaria con Menos Secundarias ({len(secundarias_coords_min)} escuelas)\"\n",
    ")\n",
    "\n",
    "# Para la primaria con MÁS secundarias cerca\n",
    "plot_proximity_real(\n",
    "    nombre_primaria=\"Primaria\",\n",
    "    secundaria_coords=secundarias_coords_max,\n",
    "    titulo=f\"Primaria con Más Secundarias ({len(secundarias_coords_max)} escuelas)\"\n",
    ")"
   ]
  },
  {
   "cell_type": "markdown",
   "id": "7afecbe7",
   "metadata": {},
   "source": [
    "### Analysis"
   ]
  },
  {
   "cell_type": "code",
   "execution_count": null,
   "id": "b6134531",
   "metadata": {},
   "outputs": [],
   "source": [
    "primaria_min"
   ]
  },
  {
   "cell_type": "markdown",
   "id": "ddddd35c",
   "metadata": {},
   "source": [
    "La escuela primaria con menos secundarias cerca está ubicada en el Departamento de Ucayali, Provicina de Purus y Distrito de Purus. "
   ]
  },
  {
   "cell_type": "code",
   "execution_count": null,
   "id": "3b6c9e81",
   "metadata": {},
   "outputs": [],
   "source": [
    "primaria_max"
   ]
  },
  {
   "cell_type": "markdown",
   "id": "ce1b1b05",
   "metadata": {},
   "source": [
    "La escuela primaria con más secundarias cerca está ubicada en el Departamento de Lima, Provicina de Lima y Distrito de Los Olivos. "
   ]
  },
  {
   "cell_type": "markdown",
   "id": "971e6d27",
   "metadata": {},
   "source": [
    "### Análisis Comparativo\n",
    "\n"
   ]
  },
  {
   "cell_type": "markdown",
   "id": "d9067525",
   "metadata": {},
   "source": [
    "### 📍 Comparación entre el Distrito de Los Olivos y el Distrito de Purús\n",
    "\n",
    "### 🏙️ Distrito: Los Olivos\n",
    "\n",
    "##### 🌎 Terreno\n",
    "- **Superficie total:** 18.25 km²\n",
    "- **Altitud media:** 75 m s. n. m.\n",
    "- **Notas:** Distrito urbano consolidado en Lima Norte.\n",
    "- **Fuente:** [Wikipedia - Los Olivos](https://es.wikipedia.org/wiki/Distrito_de_Los_Olivos)\n",
    "\n",
    "##### 🚗 Accesibilidad\n",
    "- **Acceso:** Alto\n",
    "- **Vías principales:** \n",
    "  - Panamericana Norte\n",
    "  - Av. Canta Callao\n",
    "  - Av. Naranjal\n",
    "- **Notas:** Conexiones estratégicas con otros distritos de Lima Norte.\n",
    "- **Fuente:** [Municipalidad de Los Olivos - Plan de Riesgos](https://sigrid.cenepred.gob.pe/sigridv3/storage/biblioteca/8028_plan-de-prevencion-y-reduccion-del-riesgo-de-desastres-por-sismos-del-distrito-de-los-olivos-2019-2022.pdf)\n",
    "\n",
    "##### 🏢 Características Urbanas vs. Rurales\n",
    "- **Zona:** Urbana\n",
    "- **Notas:** Considerado el distrito socioeconómicamente mejor consolidado de Lima Norte.\n",
    "- **Fuente:** [Wikipedia - Los Olivos](https://es.wikipedia.org/wiki/Distrito_de_Los_Olivos)\n",
    "\n",
    "---\n",
    "\n",
    "### 🌳 Distrito: Purús\n",
    "\n",
    "##### 🌎 Terreno\n",
    "- **Superficie total:** 17,848 km²\n",
    "- **Altitud media:** 232 m s. n. m.\n",
    "- **Notas:** \n",
    "  - Parte de la Amazonía peruana.\n",
    "  - Habitado por etnias pano (grupos sharanahua: \"Onicoin\" y \"Yura\").\n",
    "  - Limita con Brasil, Madre de Dios y Atalaya.\n",
    "- **Fuente:** [Wikipedia - Purús](https://es.wikipedia.org/wiki/Distrito_de_Pur%C3%BAs)\n",
    "\n",
    "##### 🚤 Accesibilidad\n",
    "- **Acceso:** Muy limitado\n",
    "- **Vías principales:** Solo acceso aéreo o fluvial.\n",
    "- **Fuente:** [Municipalidad Provincial de Purús](https://sinia.minam.gob.pe/sites/default/files/sinia/archivos/public/docs/mp_purus_ucayali_documento_pt_2022.pdf)\n",
    "\n",
    "##### 🏡 Características Urbanas vs. Rurales\n",
    "- **Zona:** Rural\n",
    "- **Notas:** Predominancia de características rurales y baja densidad poblacional.\n",
    "- **Fuente:** [INEI - Censos Nacionales](https://www.inei.gob.pe/media/MenuRecursivo/publicaciones_digitales/Est/Lib1554/25TOMO_01.pdf)\n",
    "\n",
    "---\n"
   ]
  },
  {
   "cell_type": "markdown",
   "id": "2a64e152",
   "metadata": {},
   "source": [
    "## Streamlit"
   ]
  },
  {
   "cell_type": "code",
   "execution_count": null,
   "id": "1ff02880",
   "metadata": {},
   "outputs": [],
   "source": [
    "pip install streamlit"
   ]
  },
  {
   "cell_type": "code",
   "execution_count": null,
   "id": "70a1c0a8",
   "metadata": {},
   "outputs": [],
   "source": [
    "pip install streamlit-folium"
   ]
  },
  {
   "cell_type": "markdown",
   "id": "3f588099",
   "metadata": {},
   "source": [
    "### Revisar Doc App.py "
   ]
  },
  {
   "cell_type": "code",
   "execution_count": null,
   "id": "f0e6081d",
   "metadata": {},
   "outputs": [],
   "source": [
    "'''\n",
    "# app.py\n",
    "\n",
    "# --- Librerías necesarias ---\n",
    "import streamlit as st\n",
    "import geopandas as gpd\n",
    "import pandas as pd\n",
    "import folium\n",
    "from folium import Choropleth, LayerControl\n",
    "import matplotlib.pyplot as plt\n",
    "from streamlit_folium import folium_static\n",
    "\n",
    "# --- Cargar los datos ---\n",
    "# Asegúrate de tener los archivos en las rutas correctas:\n",
    "# listado_iiee.xlsx y Shapefile/DISTRITOS.shp\n",
    "\n",
    "# 1. Cargar colegios\n",
    "escuelas = pd.read_excel('listado_iiee.xlsx')\n",
    "\n",
    "# 2. Crear GeoDataFrame de colegios\n",
    "schools_geo = gpd.GeoDataFrame(\n",
    "    escuelas,\n",
    "    crs=\"EPSG:4326\",\n",
    "    geometry=gpd.points_from_xy(escuelas['Longitud'], escuelas['Latitud'])\n",
    ")\n",
    "\n",
    "# 3. Cargar shapefile de distritos\n",
    "districts = gpd.read_file('Shapefile/DISTRITOS.shp')\n",
    "\n",
    "# --- Preprocesar districts para Streamlit ---\n",
    "\n",
    "# 1. QUEDARTE SOLO CON ID Y GEOMETRÍA\n",
    "districts = districts[['IDDIST', 'geometry']].copy()\n",
    "\n",
    "# 2. SIMPLIFICAR POLÍGONOS\n",
    "districts['geometry'] = districts['geometry'].simplify(tolerance=0.01, preserve_topology=True)\n",
    "\n",
    "# 4. Ajustes de formato\n",
    "schools_geo['Ubigeo'] = schools_geo['Ubigeo'].astype(str).str.zfill(6)\n",
    "districts['IDDIST'] = districts['IDDIST'].astype(str).str.zfill(6)\n",
    "schools_geo['Nivel'] = schools_geo['Nivel / Modalidad'].str.lower()\n",
    "\n",
    "# --- Configurar página de Streamlit ---\n",
    "st.set_page_config(page_title=\"Análisis Geoespacial de Colegios en Perú\", layout=\"wide\")\n",
    "\n",
    "# --- Tabs ---\n",
    "tab1, tab2, tab3 = st.tabs([\"🗂️ Descripción de Datos\", \"🗺️ Mapas Estáticos\", \"🌍 Mapas Dinámicos\"])\n",
    "\n",
    "# ============================================================\n",
    "# Tab 1: Descripción de datos\n",
    "# ============================================================\n",
    "\n",
    "with tab1:\n",
    "    st.header(\"🗂️ Descripción de Datos\")\n",
    "\n",
    "    st.subheader(\"Unidad de Análisis\")\n",
    "    st.write(\"\"\"\n",
    "    La unidad de análisis de este proyecto es cada institución educativa (colegio) en el Perú.\n",
    "    Cada colegio está identificado de manera única por sus coordenadas geográficas (latitud y longitud) y su nivel educativo (Inicial, Primaria o Secundaria).\n",
    "    El análisis espacial agrega los colegios a nivel distrital para observar patrones de acceso educativo en el ámbito local.\n",
    "    \"\"\")\n",
    "\n",
    "    st.subheader(\"Fuentes de Datos\")\n",
    "    st.write(\"\"\"\n",
    "    - **Base de datos de colegios**: Ministerio de Educación del Perú (MINEDU), extraído del portal SIGMED (https://sigmed.minedu.gob.pe/mapaeducativo/).\n",
    "    - **Shapefile de límites distritales**: Fuente oficial del Instituto Nacional de Estadística e Informática (INEI).\n",
    "    \"\"\")\n",
    "\n",
    "    st.subheader(\"Supuestos y Preprocesamiento\")\n",
    "    st.write(\"\"\"\n",
    "    - Solo se incluyeron colegios que cuentan con coordenadas geográficas válidas y completas.\n",
    "    - Se categorizaron los colegios en tres niveles educativos: Inicial, Primaria y Secundaria.\n",
    "    - Se excluyeron las instituciones sin clasificación de nivel o con errores de geolocalización.\n",
    "    - La agregación distrital asume que los límites provistos por el INEI son actuales y precisos.\n",
    "    - El análisis de proximidad basado en radio utiliza un buffer de 5 km alrededor de las escuelas primarias.\n",
    "    \"\"\")\n",
    "\n",
    "# ============================================================\n",
    "# Tab 2: Mapas Estáticos\n",
    "# ============================================================\n",
    "\n",
    "with tab2:\n",
    "    st.header(\"🗺️ Mapas Estáticos\")\n",
    "\n",
    "    niveles = ['inicial', 'primaria', 'secundaria']\n",
    "\n",
    "    for nivel in niveles:\n",
    "        st.subheader(f\"Distribución de colegios - Nivel {nivel.capitalize()}\")\n",
    "\n",
    "        # Filtrar colegios del nivel\n",
    "        filtered = schools_geo[schools_geo['Nivel'].str.contains(nivel, case=False, na=False)]\n",
    "\n",
    "        # Contar por distrito\n",
    "        conteo = filtered.groupby('Ubigeo').size().reset_index(name='Total_Colegios')\n",
    "\n",
    "        # Merge shapefile\n",
    "        districts_plot = districts.merge(conteo, left_on='IDDIST', right_on='Ubigeo', how='left')\n",
    "        districts_plot['Total_Colegios'] = districts_plot['Total_Colegios'].fillna(0)\n",
    "\n",
    "        # Plot\n",
    "        fig, ax = plt.subplots(figsize=(10, 10))\n",
    "        districts_plot.plot(\n",
    "            column='Total_Colegios',\n",
    "            cmap='YlOrRd',\n",
    "            linewidth=0.5,\n",
    "            edgecolor='black',\n",
    "            legend=True,\n",
    "            ax=ax\n",
    "        )\n",
    "        ax.set_title(f'Distribución de colegios - Nivel {nivel.capitalize()}', fontsize=16)\n",
    "        ax.axis('off')\n",
    "        st.pyplot(fig)\n",
    "\n",
    "# ============================================================\n",
    "# Tab 3: Mapas Dinámicos\n",
    "# ============================================================\n",
    "\n",
    "with tab3:\n",
    "    st.header(\"🌍 Mapas Dinámicos\")\n",
    "\n",
    "    st.subheader(\"Distribución de colegios por nivel educativo (mapa interactivo)\")\n",
    "\n",
    "    niveles = ['inicial', 'primaria', 'secundaria']\n",
    "    conteos = {}\n",
    "\n",
    "    for nivel in niveles:\n",
    "        filtered = schools_geo[schools_geo['Nivel'].str.contains(nivel, case=False, na=False)]\n",
    "        conteo = filtered.groupby('Ubigeo').size().reset_index(name='Total_Colegios')\n",
    "        conteos[nivel] = conteo\n",
    "\n",
    "    # Crear el mapa base\n",
    "    m = folium.Map(location=[-12.04318, -77.02824], zoom_start=6, tiles='OpenStreetMap')\n",
    "\n",
    "    # Agregar capas\n",
    "    for nivel, conteo in conteos.items():\n",
    "        Choropleth(\n",
    "            geo_data=districts.to_json(),\n",
    "            data=conteo,\n",
    "            columns=['Ubigeo', 'Total_Colegios'],\n",
    "            key_on='feature.properties.IDDIST',\n",
    "            fill_color='YlOrRd',\n",
    "            fill_opacity=0.7,\n",
    "            line_opacity=0.2,\n",
    "            name=f\"{nivel.capitalize()}\",\n",
    "            legend_name=f\"Colegios de {nivel.capitalize()}\"\n",
    "        ).add_to(m)\n",
    "\n",
    "    LayerControl(collapsed=False).add_to(m)\n",
    "\n",
    "    folium_static(m, width=1200, height=700)\n",
    "'''"
   ]
  },
  {
   "cell_type": "markdown",
   "id": "29d938bf",
   "metadata": {},
   "source": [
    "### Análisis extra"
   ]
  },
  {
   "cell_type": "markdown",
   "id": "6cc6c4fa",
   "metadata": {},
   "source": [
    "### 1. Gráfico de barras horizontales: Top 10 distritos con más colegios"
   ]
  },
  {
   "cell_type": "code",
   "execution_count": null,
   "id": "15e005ff",
   "metadata": {},
   "outputs": [],
   "source": [
    "top10 = conteo_colegios_distrito.sort_values('Total_Colegios', ascending=False).head(10)\n",
    "top10.plot(kind='barh', x='Ubigeo', y='Total_Colegios', color='skyblue', figsize=(10, 6))\n",
    "plt.xlabel('Número de colegios')\n",
    "plt.title('Top 10 distritos con más colegios')\n",
    "plt.gca().invert_yaxis()  # Para que el distrito con más colegios esté arriba\n",
    "plt.tight_layout()\n",
    "plt.show()"
   ]
  },
  {
   "cell_type": "code",
   "execution_count": null,
   "id": "14613dbb",
   "metadata": {},
   "outputs": [],
   "source": [
    "# Ubigeos que quieres identificar\n",
    "ubigeos_interes = ['150132', '150135', '150103', '150110', '150142', '150143', '070101', '150117', '150133', '150125']\n",
    "\n",
    "# Buscar sus nombres en la base de distritos\n",
    "distritos_interes = districts[districts['IDDIST'].isin(ubigeos_interes)][['IDDIST', 'DISTRITO', 'PROVINCIA', 'DEPARTAMEN']]\n",
    "\n",
    "# Mostrar tabla\n",
    "print(distritos_interes)"
   ]
  },
  {
   "cell_type": "markdown",
   "id": "a1749c9d",
   "metadata": {},
   "source": [
    "### 2. Histograma: Distribución del número de colegios por distrito"
   ]
  },
  {
   "cell_type": "code",
   "execution_count": null,
   "id": "b5e32e0f",
   "metadata": {},
   "outputs": [],
   "source": [
    "conteo_colegios_distrito['Total_Colegios'].plot(\n",
    "    kind='hist', bins=30, color='orchid', edgecolor='black', figsize=(10, 6)\n",
    ")\n",
    "plt.xlabel('Número de colegios por distrito')\n",
    "plt.title('Distribución de colegios por distrito')\n",
    "plt.tight_layout()\n",
    "plt.show()"
   ]
  },
  {
   "cell_type": "code",
   "execution_count": null,
   "id": "d0e95ce1",
   "metadata": {},
   "outputs": [],
   "source": [
    "# cd /Users/rominarattoyanez/hw3\n",
    "# streamlit run app.py"
   ]
  },
  {
   "cell_type": "code",
   "execution_count": null,
   "id": "4e9f384b",
   "metadata": {},
   "outputs": [],
   "source": [
    "# pip list"
   ]
  },
  {
   "cell_type": "markdown",
   "id": "7fe0aa71",
   "metadata": {},
   "source": [
    "## Zoom en Ica"
   ]
  },
  {
   "cell_type": "code",
   "execution_count": null,
   "id": "329633b5",
   "metadata": {},
   "outputs": [],
   "source": [
    "# Buscar colegios que contengan \"cruz\" en el nombre\n",
    "colegios_cruz = secundarias_ica[secundarias_ica['Nombre de SS.EE.'].str.contains('cruz', case=False, na=False)]\n",
    "\n",
    "# Mostrar resultados\n",
    "colegios_cruz"
   ]
  },
  {
   "cell_type": "code",
   "execution_count": null,
   "id": "9878934e",
   "metadata": {},
   "outputs": [],
   "source": [
    "# Filtrar solo Ica\n",
    "primarias_ica = schools_geo[\n",
    "    (schools_geo['Nivel'].str.contains(\"primaria\", case=False, na=False)) &\n",
    "    (schools_geo['Departamento'].str.upper() == 'ICA')\n",
    "].copy()\n",
    "\n",
    "secundarias_ica = schools_geo[\n",
    "    (schools_geo['Nivel'].str.contains(\"secundaria\", case=False, na=False)) &\n",
    "    (schools_geo['Departamento'].str.upper() == 'ICA')\n",
    "].copy()\n",
    "\n",
    "# Crear geometría\n",
    "primarias_ica = primarias_ica.set_geometry(gpd.points_from_xy(primarias_ica.Longitud, primarias_ica.Latitud)).set_crs(epsg=4326).to_crs(epsg=32718)\n",
    "secundarias_ica = secundarias_ica.set_geometry(gpd.points_from_xy(secundarias_ica.Longitud, secundarias_ica.Latitud)).set_crs(epsg=4326).to_crs(epsg=32718)\n",
    "\n",
    "# Crear buffer de 5km\n",
    "primarias_ica['buffer_5km'] = primarias_ica.geometry.buffer(5000)\n",
    "\n",
    "# Contar secundarias dentro del buffer\n",
    "primarias_ica['conteo_secundarias'] = primarias_ica['buffer_5km'].apply(\n",
    "    lambda buf: secundarias_ica[secundarias_ica.geometry.within(buf)].shape[0]\n",
    ")\n",
    "\n",
    "# Identificar primaria con más y menos secundarias cercanas\n",
    "primaria_max = primarias_ica.loc[primarias_ica['conteo_secundarias'].idxmax()]\n",
    "primaria_min = primarias_ica.loc[primarias_ica['conteo_secundarias'].idxmin()]\n",
    "\n",
    "# Volver a lat/lon\n",
    "primarias_ica = primarias_ica.to_crs(epsg=4326)\n",
    "secundarias_ica = secundarias_ica.to_crs(epsg=4326)\n"
   ]
  },
  {
   "cell_type": "code",
   "execution_count": null,
   "id": "e50c329e",
   "metadata": {},
   "outputs": [],
   "source": [
    "primaria_max"
   ]
  },
  {
   "cell_type": "code",
   "execution_count": null,
   "id": "e8dd75fb",
   "metadata": {},
   "outputs": [],
   "source": [
    "primaria_min"
   ]
  },
  {
   "cell_type": "code",
   "execution_count": null,
   "id": "6132961c",
   "metadata": {},
   "outputs": [],
   "source": [
    "import folium\n",
    "from shapely.geometry import Point\n",
    "import geopandas as gpd\n",
    "\n",
    "# Filtrar solo Ica\n",
    "primarias_ica = schools_geo[\n",
    "    (schools_geo['Nivel'].str.contains(\"primaria\", case=False, na=False)) &\n",
    "    (schools_geo['Departamento'].str.upper() == 'ICA')\n",
    "].copy()\n",
    "\n",
    "secundarias_ica = schools_geo[\n",
    "    (schools_geo['Nivel'].str.contains(\"secundaria\", case=False, na=False)) &\n",
    "    (schools_geo['Departamento'].str.upper() == 'ICA')\n",
    "].copy()\n",
    "\n",
    "# Crear geometría\n",
    "primarias_ica = primarias_ica.set_geometry(gpd.points_from_xy(primarias_ica.Longitud, primarias_ica.Latitud)).set_crs(epsg=4326).to_crs(epsg=32718)\n",
    "secundarias_ica = secundarias_ica.set_geometry(gpd.points_from_xy(secundarias_ica.Longitud, secundarias_ica.Latitud)).set_crs(epsg=4326).to_crs(epsg=32718)\n",
    "\n",
    "# Crear buffer de 5km\n",
    "primarias_ica['buffer_5km'] = primarias_ica.geometry.buffer(5000)\n",
    "\n",
    "# Contar secundarias dentro del buffer\n",
    "primarias_ica['conteo_secundarias'] = primarias_ica['buffer_5km'].apply(\n",
    "    lambda buf: secundarias_ica[secundarias_ica.geometry.within(buf)].shape[0]\n",
    ")\n",
    "\n",
    "# Identificar primaria con más y menos secundarias cercanas\n",
    "primaria_max = primarias_ica.loc[primarias_ica['conteo_secundarias'].idxmax()]\n",
    "primaria_min = primarias_ica.loc[primarias_ica['conteo_secundarias'].idxmin()]\n",
    "\n",
    "# Volver a lat/lon\n",
    "primarias_ica = primarias_ica.to_crs(epsg=4326)\n",
    "secundarias_ica = secundarias_ica.to_crs(epsg=4326)\n",
    "\n",
    "# Crear mapa centrado en Ica\n",
    "m = folium.Map(location=[-14.07, -75.73], zoom_start=8, tiles='CartoDB positron')\n",
    "\n",
    "# Agregar buffers como círculos\n",
    "for _, row in primarias_ica.iterrows():\n",
    "    folium.Circle(\n",
    "        location=[row.geometry.y, row.geometry.x],\n",
    "        radius=5000,\n",
    "        color='red',\n",
    "        fill=True,\n",
    "        fill_opacity=0.2\n",
    "    ).add_to(m)\n",
    "\n",
    "center_lat=-14.08831\n",
    "center_lon=-75.75128\n",
    "\n",
    "# Círculo grande visual para \"recorte\" (fondo)\n",
    "folium.Circle(\n",
    "    location=[center_lat, center_lon],\n",
    "    radius=100000,  # 100 km de radio\n",
    "    color=None,\n",
    "    fill=True,\n",
    "    fill_opacity=0.07\n",
    ").add_to(m)\n",
    "\n",
    "# Marcador para mi colegio\n",
    "folium.Marker(\n",
    "    location=[-14.08831, -75.75128],\n",
    "    popup=folium.Popup(\"<b>IE: DE LA CRUZ</b><br>Distrito: ICA<br>Nivel: Secundaria<br>Gestión: Privada\", max_width=250),\n",
    "    icon=folium.Icon(color='blue', icon='graduation-cap', prefix='fa')\n",
    ").add_to(m)\n",
    "\n",
    "# Marcador para la primaria con más secundarias\n",
    "folium.Marker(\n",
    "    location=[-14.07166, -75.72748],\n",
    "    popup=folium.Popup(\n",
    "        f\"<b>Escuela con MÁS secundarias cercanas:</b><br>\"\n",
    "        f\"{primaria_max['Código Modular']}<br>Conteo: {primaria_max['conteo_secundarias']}\", max_width=250\n",
    "    ),\n",
    "    icon=folium.Icon(color=\"green\", icon=\"arrow-up\", prefix='fa')\n",
    ").add_to(m)\n",
    "\n",
    "# Marcador para la primaria con menos secundarias\n",
    "folium.Marker(\n",
    "    location=[-13.87274, -76.00486],\n",
    "    popup=folium.Popup(\n",
    "        f\"<b>Escuela con MENOS secundarias cercanas:</b><br>\"\n",
    "        f\"{primaria_min['Código Modular']}<br>Conteo: {primaria_min['conteo_secundarias']}\", max_width=250\n",
    "    ),\n",
    "    icon=folium.Icon(color=\"purple\", icon=\"arrow-down\", prefix='fa')\n",
    ").add_to(m)\n",
    "\n",
    "# Mostrar mapa\n",
    "m"
   ]
  },
  {
   "cell_type": "markdown",
   "id": "e81d8995",
   "metadata": {},
   "source": [
    "## End"
   ]
  }
 ],
 "metadata": {
  "kernelspec": {
   "display_name": "Python 3 (ipykernel)",
   "language": "python",
   "name": "python3"
  },
  "language_info": {
   "codemirror_mode": {
    "name": "ipython",
    "version": 3
   },
   "file_extension": ".py",
   "mimetype": "text/x-python",
   "name": "python",
   "nbconvert_exporter": "python",
   "pygments_lexer": "ipython3",
   "version": "3.10.9"
  }
 },
 "nbformat": 4,
 "nbformat_minor": 5
}
